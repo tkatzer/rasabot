{
 "cells": [
  {
   "cell_type": "code",
   "execution_count": 4,
   "metadata": {},
   "outputs": [],
   "source": [
    "#import libraries\n",
    "import requests\n",
    "import json\n"
   ]
  },
  {
   "cell_type": "code",
   "execution_count": 26,
   "metadata": {},
   "outputs": [
    {
     "name": "stdout",
     "output_type": "stream",
     "text": [
      "<Response [200]>\n",
      "{\"token_type\":\"Bearer\",\"expires_in\":\"3599\",\"ext_expires_in\":\"3599\",\"expires_on\":\"1582192925\",\"not_before\":\"1582189025\",\"resource\":\"https://graph.microsoft.com\",\"access_token\":\"eyJ0eXAiOiJKV1QiLCJub25jZSI6IjBhNXhjbno5X3JacFF1dWlHR25ySElzRFAzQ0loY3pnLXc2WnlJbVBDS3MiLCJhbGciOiJSUzI1NiIsIng1dCI6IkhsQzBSMTJza3hOWjFXUXdtak9GXzZ0X3RERSIsImtpZCI6IkhsQzBSMTJza3hOWjFXUXdtak9GXzZ0X3RERSJ9.eyJhdWQiOiJodHRwczovL2dyYXBoLm1pY3Jvc29mdC5jb20iLCJpc3MiOiJodHRwczovL3N0cy53aW5kb3dzLm5ldC83MmY5ODhiZi04NmYxLTQxYWYtOTFhYi0yZDdjZDAxMWRiNDcvIiwiaWF0IjoxNTgyMTg5MDI1LCJuYmYiOjE1ODIxODkwMjUsImV4cCI6MTU4MjE5MjkyNSwiYWlvIjoiNDJOZ1lPQTQvMWppVFpKTFo2TnBaQ2JEcWkvRkFBPT0iLCJhcHBfZGlzcGxheW5hbWUiOiJrYWxlbmRlckJvdCIsImFwcGlkIjoiOGJkNjM5ZTMtZjg0OS00MzQyLTlmZjMtYmQyODI3YjZjMGFiIiwiYXBwaWRhY3IiOiIxIiwiaWRwIjoiaHR0cHM6Ly9zdHMud2luZG93cy5uZXQvNzJmOTg4YmYtODZmMS00MWFmLTkxYWItMmQ3Y2QwMTFkYjQ3LyIsInRpZCI6IjcyZjk4OGJmLTg2ZjEtNDFhZi05MWFiLTJkN2NkMDExZGI0NyIsInV0aSI6IkZRM3FyMDhRZTAyQ0ZZY1NIQ01JQUEiLCJ2ZXIiOiIxLjAiLCJ4bXNfdGNkdCI6MTI4OTI0MTU0N30.TQMhXHWpUt0JFoYMvQVqo1iwhSerueKAbK4k07eE5v6YpM6JyyfaVN9xNtaV2IGvF28T26len_pnptyWjWN3u2wKMHtTUxFEJ7CwSFc3bXzJEM8kKckOOeugRWnYkhLsAssoQmnWLqE36EJkIwrXkhV-fRu0ooiYvMr6NuwAWqXRmIIqe5CQjkLFi8wDwsYFIgec7GvCmFRmRolaNgkiT2RKYVch8Mmu1b5UynlBJsBN4yJ61oKzPItVXnfwGBrMtjYTLxlBT8cSOspreGVwrw4rV8AJKyXxBVy7hAS8L94UF4wTbuB8xdvcKJaiogR5mIGzrNuDKV_8FZMLyvexYw\"}\n",
      "{\n",
      "  \"error\": {\n",
      "    \"code\": \"InvalidAuthenticationToken\",\n",
      "    \"message\": \"CompactToken parsing failed with error code: 80049217\",\n",
      "    \"innerError\": {\n",
      "      \"request-id\": \"a40ab43d-5b0e-41e4-b48c-de25366c125e\",\n",
      "      \"date\": \"2020-02-20T09:02:05\"\n",
      "    }\n",
      "  }\n",
      "}\n"
     ]
    }
   ],
   "source": [
    "# app_id = '8bd639e3-f849-4342-9ff3-bd2827b6c0ab' #Application Id - on the azure app overview page\n",
    "client_secret = '/R6/41GVi_=QqE23/dPv:Q9YlU6LmlvN' \n",
    "\n",
    "\n",
    "\n",
    "payload = {\n",
    "    'grant_type': 'client_credentials',\n",
    "    'client_id': '8bd639e3-f849-4342-9ff3-bd2827b6c0ab',\n",
    "    'client_secret': '/R6/41GVi_=QqE23/dPv:Q9YlU6LmlvN',\n",
    "    'resource': 'https://graph.microsoft.com',\n",
    "    }\n",
    "r = requests.post('https://login.microsoftonline.com/common/oauth2/token', data=payload)\n",
    "print(r)\n",
    "print(r.text)\n",
    "\n",
    "\n",
    "headers = {\n",
    " 'Authorization': 'Bearer {eyJ0eXAiOiJKV1QiLCJub25jZSI6IjJDdERLX1Ziblk2RDlpdGxUTi1ESTJRbzRHbVlRcGlzZmN5LUN5Z2tMbTgiLCJhbGciOiJSUzI1NiIsIng1dCI6IkhsQzBSMTJza3hOWjFXUXdtak9GXzZ0X3RERSIsImtpZCI6IkhsQzBSMTJza3hOWjFXUXdtak9GXzZ0X3RERSJ9.eyJhdWQiOiJodHRwczovL2dyYXBoLm1pY3Jvc29mdC5jb20iLCJpc3MiOiJodHRwczovL3N0cy53aW5kb3dzLm5ldC83MmY5ODhiZi04NmYxLTQxYWYtOTFhYi0yZDdjZDAxMWRiNDcvIiwiaWF0IjoxNTgyMTg2NjcwLCJuYmYiOjE1ODIxODY2NzAsImV4cCI6MTU4MjE5MDU3MCwiYWlvIjoiNDJOZ1lDaS8zUFloUXpncVkxYklwb1ZIWjRhM0FBQT0iLCJhcHBfZGlzcGxheW5hbWUiOiJrYWxlbmRlckJvdCIsImFwcGlkIjoiOGJkNjM5ZTMtZjg0OS00MzQyLTlmZjMtYmQyODI3YjZjMGFiIiwiYXBwaWRhY3IiOiIxIiwiaWRwIjoiaHR0cHM6Ly9zdHMud2luZG93cy5uZXQvNzJmOTg4YmYtODZmMS00MWFmLTkxYWItMmQ3Y2QwMTFkYjQ3LyIsInRpZCI6IjcyZjk4OGJmLTg2ZjEtNDFhZi05MWFiLTJkN2NkMDExZGI0NyIsInV0aSI6IlVkUzB5blBCQkVlbThUbGxxazhKQUEiLCJ2ZXIiOiIxLjAiLCJ4bXNfdGNkdCI6MTI4OTI0MTU0N30.IJadbU7uaUPpwamw9RjS_MmQAi7nzRRtYT4ZWA0jTKPKka11NqEi4vLerYkTWbKlo2WFxkpWJamt0QkUHJ-sPiS_ng9A6YJwUb8vUyTJRNTSndCzM7U9Jb2EgAfecZE252Koyo_324ylCk-Gxi1lFE6flDQAEOpAGzgaP0WP-9uZRYDwiMhmyKVtNP5Pxj0uG14Q0dlotWh_8brRgiCzk3apzdqTstYrHALXy1-IM76ycbfUvKdaOa-IjPiI_HTnEGtf5_BKKfUpoXcC0pzoQK2bM0emz-OvzGC0ZGFgGEpFRkqyUlc91AzizkMGvVA1rVvZd-jrobGXc-QEeDWZ8A}'\n",
    "}\n",
    "\n",
    "\n",
    "\n",
    "url = 'https://graph.microsoft.com/v1.0/'\n",
    "myobj = {\n",
    "  \"subject\": \"My event\",\n",
    "  \"start\": {\n",
    "    \"dateTime\": \"2020-02-20T08:29:20.576Z\",\n",
    "    \"timeZone\": \"UTC\"\n",
    "  },\n",
    "  \"end\": {\n",
    "    \"dateTime\": \"2020-02-27T08:29:20.576Z\",\n",
    "    \"timeZone\": \"UTC\"\n",
    "  }\n",
    "}\n",
    "\n",
    "x = requests.get(url, data = myobj , headers=headers)\n",
    "\n",
    "print(x.text)"
   ]
  },
  {
   "cell_type": "code",
   "execution_count": null,
   "metadata": {},
   "outputs": [],
   "source": [
    "eyJ0eXAiOiJKV1QiLCJub25jZSI6IjJDdERLX1Ziblk2RDlpdGxUTi1ESTJRbzRHbVlRcGlzZmN5LUN5Z2tMbTgiLCJhbGciOiJSUzI1NiIsIng1dCI6IkhsQzBSMTJza3hOWjFXUXdtak9GXzZ0X3RERSIsImtpZCI6IkhsQzBSMTJza3hOWjFXUXdtak9GXzZ0X3RERSJ9.eyJhdWQiOiJodHRwczovL2dyYXBoLm1pY3Jvc29mdC5jb20iLCJpc3MiOiJodHRwczovL3N0cy53aW5kb3dzLm5ldC83MmY5ODhiZi04NmYxLTQxYWYtOTFhYi0yZDdjZDAxMWRiNDcvIiwiaWF0IjoxNTgyMTg2NjcwLCJuYmYiOjE1ODIxODY2NzAsImV4cCI6MTU4MjE5MDU3MCwiYWlvIjoiNDJOZ1lDaS8zUFloUXpncVkxYklwb1ZIWjRhM0FBQT0iLCJhcHBfZGlzcGxheW5hbWUiOiJrYWxlbmRlckJvdCIsImFwcGlkIjoiOGJkNjM5ZTMtZjg0OS00MzQyLTlmZjMtYmQyODI3YjZjMGFiIiwiYXBwaWRhY3IiOiIxIiwiaWRwIjoiaHR0cHM6Ly9zdHMud2luZG93cy5uZXQvNzJmOTg4YmYtODZmMS00MWFmLTkxYWItMmQ3Y2QwMTFkYjQ3LyIsInRpZCI6IjcyZjk4OGJmLTg2ZjEtNDFhZi05MWFiLTJkN2NkMDExZGI0NyIsInV0aSI6IlVkUzB5blBCQkVlbThUbGxxazhKQUEiLCJ2ZXIiOiIxLjAiLCJ4bXNfdGNkdCI6MTI4OTI0MTU0N30.IJadbU7uaUPpwamw9RjS_MmQAi7nzRRtYT4ZWA0jTKPKka11NqEi4vLerYkTWbKlo2WFxkpWJamt0QkUHJ-sPiS_ng9A6YJwUb8vUyTJRNTSndCzM7U9Jb2EgAfecZE252Koyo_324ylCk-Gxi1lFE6flDQAEOpAGzgaP0WP-9uZRYDwiMhmyKVtNP5Pxj0uG14Q0dlotWh_8brRgiCzk3apzdqTstYrHALXy1-IM76ycbfUvKdaOa-IjPiI_HTnEGtf5_BKKfUpoXcC0pzoQK2bM0emz-OvzGC0ZGFgGEpFRkqyUlc91AzizkMGvVA1rVvZd-jrobGXc-QEeDWZ8A"
   ]
  }
 ],
 "metadata": {
  "kernelspec": {
   "display_name": "Python 3.7.6 64-bit",
   "language": "python",
   "name": "python37664bitd233539cfdbb4505b46a24a1bcda5445"
  },
  "language_info": {
   "codemirror_mode": {
    "name": "ipython",
    "version": 3
   },
   "file_extension": ".py",
   "mimetype": "text/x-python",
   "name": "python",
   "nbconvert_exporter": "python",
   "pygments_lexer": "ipython3",
   "version": "3.7.6"
  }
 },
 "nbformat": 4,
 "nbformat_minor": 2
}
